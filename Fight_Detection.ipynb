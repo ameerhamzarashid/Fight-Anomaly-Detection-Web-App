{
 "cells": [
  {
   "cell_type": "code",
   "execution_count": null,
   "metadata": {
    "colab": {
     "base_uri": "https://localhost:8080/"
    },
    "id": "xlnGodyIcy_N",
    "outputId": "d871d964-1286-47ee-801d-b57b556970cd"
   },
   "outputs": [
    {
     "name": "stdout",
     "output_type": "stream",
     "text": [
      "Mounted at /content/drive\n"
     ]
    }
   ],
   "source": [
    "from google.colab import drive\n",
    "drive._mount('/content/drive')"
   ]
  },
  {
   "cell_type": "code",
   "execution_count": null,
   "metadata": {
    "id": "-WfNRiAwrIDF"
   },
   "outputs": [],
   "source": [
    "# Load the Project Repo from Github\n",
    "%%capture\n",
    "! git clone https://github.com/MohamedSebaie/Fight_Detection_From_Surveillance_Cameras-PyTorch_Project"
   ]
  },
  {
   "cell_type": "code",
   "execution_count": 2,
   "metadata": {
    "ExecuteTime": {
     "end_time": "2023-08-18T11:02:18.028659Z",
     "start_time": "2023-08-18T11:02:12.294433Z"
    },
    "id": "5rT3ZO-1FDut"
   },
   "outputs": [
    {
     "name": "stdout",
     "output_type": "stream",
     "text": [
      "Defaulting to user installation because normal site-packages is not writeable\n",
      "Collecting pafy\n",
      "  Downloading pafy-0.5.5-py2.py3-none-any.whl (35 kB)\n",
      "Requirement already satisfied: youtube-dl in /usr/lib/python3/dist-packages (2021.12.17)\n",
      "Requirement already satisfied: moviepy in /home/ubuntu/.local/lib/python3.10/site-packages (1.0.3)\n",
      "Requirement already satisfied: tqdm<5.0,>=4.11.2 in /home/ubuntu/.local/lib/python3.10/site-packages (from moviepy) (4.65.0)\n",
      "Requirement already satisfied: requests<3.0,>=2.8.1 in /home/ubuntu/.local/lib/python3.10/site-packages (from moviepy) (2.31.0)\n",
      "Requirement already satisfied: numpy in /home/ubuntu/.local/lib/python3.10/site-packages (from moviepy) (1.22.4)\n",
      "Requirement already satisfied: imageio-ffmpeg>=0.2.0 in /home/ubuntu/.local/lib/python3.10/site-packages (from moviepy) (0.4.8)\n",
      "Requirement already satisfied: decorator<5.0,>=4.0.2 in /home/ubuntu/.local/lib/python3.10/site-packages (from moviepy) (4.4.2)\n",
      "Requirement already satisfied: proglog<=1.0.0 in /home/ubuntu/.local/lib/python3.10/site-packages (from moviepy) (0.1.10)\n",
      "Requirement already satisfied: imageio<3.0,>=2.5 in /home/ubuntu/.local/lib/python3.10/site-packages (from moviepy) (2.31.1)\n",
      "Requirement already satisfied: pillow>=8.3.2 in /home/ubuntu/.local/lib/python3.10/site-packages (from imageio<3.0,>=2.5->moviepy) (10.0.0)\n",
      "Requirement already satisfied: charset-normalizer<4,>=2 in /home/ubuntu/.local/lib/python3.10/site-packages (from requests<3.0,>=2.8.1->moviepy) (3.1.0)\n",
      "Requirement already satisfied: urllib3<3,>=1.21.1 in /home/ubuntu/.local/lib/python3.10/site-packages (from requests<3.0,>=2.8.1->moviepy) (2.0.2)\n",
      "Requirement already satisfied: certifi>=2017.4.17 in /home/ubuntu/.local/lib/python3.10/site-packages (from requests<3.0,>=2.8.1->moviepy) (2023.5.7)\n",
      "Requirement already satisfied: idna<4,>=2.5 in /usr/lib/python3/dist-packages (from requests<3.0,>=2.8.1->moviepy) (3.3)\n",
      "Installing collected packages: pafy\n",
      "Successfully installed pafy-0.5.5\n",
      "Defaulting to user installation because normal site-packages is not writeable\n",
      "Requirement already satisfied: pytube in /home/ubuntu/.local/lib/python3.10/site-packages (15.0.0)\n"
     ]
    }
   ],
   "source": [
    "\n",
    "# Install the required libraries.\n",
    "!pip install pafy youtube-dl moviepy\n",
    "!pip install pytube"
   ]
  },
  {
   "cell_type": "code",
   "execution_count": 3,
   "metadata": {
    "ExecuteTime": {
     "end_time": "2023-08-18T11:02:21.498783Z",
     "start_time": "2023-08-18T11:02:19.922298Z"
    },
    "id": "cUE1iu_RrXyn"
   },
   "outputs": [],
   "source": [
    "%%capture\n",
    "import random\n",
    "import time\n",
    "import math\n",
    "import numpy as np\n",
    "import torch\n",
    "import os\n",
    "import cv2\n",
    "import torchvision\n",
    "from moviepy.editor import *\n",
    "from collections import deque"
   ]
  },
  {
   "cell_type": "code",
   "execution_count": 4,
   "metadata": {
    "ExecuteTime": {
     "end_time": "2023-08-18T11:02:24.428264Z",
     "start_time": "2023-08-18T11:02:24.414250Z"
    },
    "colab": {
     "base_uri": "https://localhost:8080/"
    },
    "id": "a6LkxC50gYfM",
    "outputId": "173c741a-fe66-4779-bfd2-284d25aa3930"
   },
   "outputs": [
    {
     "data": {
      "text/plain": [
       "device(type='cpu')"
      ]
     },
     "execution_count": 4,
     "metadata": {},
     "output_type": "execute_result"
    }
   ],
   "source": [
    "device = torch.device(\"cuda:0\" if torch.cuda.is_available() else \"cpu\")\n",
    "device"
   ]
  },
  {
   "cell_type": "code",
   "execution_count": 6,
   "metadata": {
    "ExecuteTime": {
     "end_time": "2023-08-18T11:03:14.471627Z",
     "start_time": "2023-08-18T11:03:14.468970Z"
    },
    "colab": {
     "base_uri": "https://localhost:8080/"
    },
    "id": "aPgvPwAQi80Y",
    "outputId": "95a95245-43d5-4c47-db31-982a072ca21f"
   },
   "outputs": [
    {
     "name": "stdout",
     "output_type": "stream",
     "text": [
      "/home/ubuntu/Documents/Student Work/Fight_Detection_From_Surveillance_Cameras-PyTorch_Project/UtilsFiles\n"
     ]
    }
   ],
   "source": [
    "cd ../UtilsFiles"
   ]
  },
  {
   "cell_type": "code",
   "execution_count": 8,
   "metadata": {
    "ExecuteTime": {
     "end_time": "2023-08-18T11:03:45.074513Z",
     "start_time": "2023-08-18T11:03:45.072486Z"
    },
    "id": "jr0WCuH-MHcR"
   },
   "outputs": [],
   "source": [
    "import Fight_utils\n",
    "from Fight_utils import *"
   ]
  },
  {
   "cell_type": "code",
   "execution_count": null,
   "metadata": {
    "id": "j6MLp9PpDJ4-"
   },
   "outputs": [],
   "source": [
    "DATASET_DIR = '/content/Fight_Detection_From_Surveillance_Cameras-PyTorch_Project/Dataset'\n",
    "CLASSES_LIST = ['fight','noFight']\n",
    "SEQUENCE_LENGTH = 16\n",
    "batch_size= 4"
   ]
  },
  {
   "cell_type": "markdown",
   "metadata": {
    "id": "NRD8sXQYdG1E"
   },
   "source": [
    "# FineTuninng and Training"
   ]
  },
  {
   "cell_type": "code",
   "execution_count": 9,
   "metadata": {
    "ExecuteTime": {
     "end_time": "2023-08-18T11:03:50.407689Z",
     "start_time": "2023-08-18T11:03:50.403922Z"
    },
    "id": "er2NqgsfUt3i"
   },
   "outputs": [],
   "source": [
    "\n",
    "seed_constant = 70\n",
    "np.random.seed(seed_constant)\n",
    "random.seed(seed_constant)\n",
    "torch.manual_seed(seed_constant)\n",
    "torch.cuda.manual_seed_all(seed_constant)"
   ]
  },
  {
   "cell_type": "code",
   "execution_count": 11,
   "metadata": {
    "ExecuteTime": {
     "end_time": "2023-08-18T11:04:12.544486Z",
     "start_time": "2023-08-18T11:04:12.249927Z"
    },
    "colab": {
     "base_uri": "https://localhost:8080/",
     "height": 66,
     "referenced_widgets": [
      "f0a6cad2707f4799a9acad533af921b6",
      "828e9fae284a455a8f67d49e1a1ee9d1",
      "7558ee4ed88b4f18b9d689b7dca44714",
      "bbd4cd4b8b974e999f3691042aebf34e",
      "a6cbcf5028f8422d916d4c82497a1dbd",
      "c0ee7e7403154a42b4af1801288dd478",
      "509db9a067dd4762a899a2f9ce1fde45",
      "cb17fa7b7f5f41839c343101e81781a0",
      "75fe7d9015894182a3a1454658c8e50e",
      "d8eb67971aaf4a5cb5aa2205240a460f",
      "f3db09b7873345b2b5351db09d0548ed"
     ]
    },
    "id": "8HL3g6QLfS7M",
    "outputId": "ccc4ca8d-db79-4e5f-dc5b-fb42fd5db985"
   },
   "outputs": [],
   "source": [
    "model_ft = torchvision.models.video.r2plus1d_18(pretrained=True, progress=True)"
   ]
  },
  {
   "cell_type": "code",
   "execution_count": 12,
   "metadata": {
    "ExecuteTime": {
     "end_time": "2023-08-18T11:04:18.268591Z",
     "start_time": "2023-08-18T11:04:18.266197Z"
    },
    "id": "YX7KgrBMkMAj"
   },
   "outputs": [],
   "source": [
    "num_ftrs = model_ft.fc.in_features   #in_features\n",
    "model_ft.fc = torch.nn.Linear(num_ftrs, 2) #nn.Linear(in_features, out_features)"
   ]
  },
  {
   "cell_type": "code",
   "execution_count": null,
   "metadata": {
    "colab": {
     "base_uri": "https://localhost:8080/"
    },
    "id": "VdXspQhNpqZF",
    "outputId": "3122edcb-8f60-45dd-b1e8-734243511bcc"
   },
   "outputs": [
    {
     "name": "stdout",
     "output_type": "stream",
     "text": [
      "Extracting Data of Class: fight\n",
      "Extracting Data of Class: noFight\n"
     ]
    }
   ],
   "source": [
    "x_tensor, y_tensor=Fight_utils.create_dataset(DATASET_DIR,CLASSES_LIST,SEQUENCE_LENGTH)"
   ]
  },
  {
   "cell_type": "code",
   "execution_count": null,
   "metadata": {
    "colab": {
     "base_uri": "https://localhost:8080/"
    },
    "id": "RnoDxGdjXwAH",
    "outputId": "cffd6b9e-0ab0-4865-f2db-151f8cf14f54"
   },
   "outputs": [
    {
     "data": {
      "text/plain": [
       "torch.Size([300, 3, 16, 112, 112])"
      ]
     },
     "execution_count": 13,
     "metadata": {},
     "output_type": "execute_result"
    }
   ],
   "source": [
    "x_tensor.shape"
   ]
  },
  {
   "cell_type": "code",
   "execution_count": null,
   "metadata": {
    "id": "nDpTRpKo7U6n"
   },
   "outputs": [],
   "source": [
    "x_tensor, y_tensor = x_tensor.to(device), y_tensor.to(device)"
   ]
  },
  {
   "cell_type": "code",
   "execution_count": null,
   "metadata": {
    "id": "mGmuB9X8pmAf"
   },
   "outputs": [],
   "source": [
    "dataset = torch.utils.data.TensorDataset(x_tensor, y_tensor)\n",
    "val_size = int(len(dataset)*0.3)\n",
    "train_size = len(dataset)- int(len(dataset)*0.3)\n",
    "train_dataset, test_val_dataset = torch.utils.data.random_split(dataset, [train_size, val_size])"
   ]
  },
  {
   "cell_type": "code",
   "execution_count": null,
   "metadata": {
    "id": "hvq8VdFomzEg"
   },
   "outputs": [],
   "source": [
    "val_size = int(len(test_val_dataset)*0.5)\n",
    "test_size = len(test_val_dataset)- int(len(test_val_dataset)*0.5)\n",
    "val_dataset, test_dataset = torch.utils.data.random_split(test_val_dataset, [val_size, test_size])"
   ]
  },
  {
   "cell_type": "code",
   "execution_count": null,
   "metadata": {
    "id": "btK1wCVU6ZsN"
   },
   "outputs": [],
   "source": [
    "train_loader = torch.utils.data.DataLoader(dataset=train_dataset, batch_size=batch_size, shuffle=True)\n",
    "val_loader = torch.utils.data.DataLoader(dataset=val_dataset, batch_size=batch_size, shuffle=True)"
   ]
  },
  {
   "cell_type": "code",
   "execution_count": null,
   "metadata": {
    "id": "177Mc-us2TCo"
   },
   "outputs": [],
   "source": [
    "dataloaders_dict = {'train':train_loader,'val':val_loader }"
   ]
  },
  {
   "cell_type": "code",
   "execution_count": null,
   "metadata": {
    "id": "UplDJI_18iTO"
   },
   "outputs": [],
   "source": [
    "# To empty the Memory\n",
    "torch.cuda.empty_cache()"
   ]
  },
  {
   "cell_type": "code",
   "execution_count": null,
   "metadata": {
    "id": "KWFHe9m73HqI"
   },
   "outputs": [],
   "source": [
    "# Send the model to GPU\n",
    "model_ft = model_ft.to(device)\n",
    "\n",
    "# No of Epochs\n",
    "epochs = 30\n",
    "\n",
    "# Loss Function\n",
    "criterion = torch.nn.CrossEntropyLoss()\n",
    "\n",
    "# Optimization Function (SGD-----> Stocastic Gradient Descent)\n",
    "optimizer_ft = torch.optim.SGD(model_ft.parameters(), lr=0.001, momentum=0.9)"
   ]
  },
  {
   "cell_type": "code",
   "execution_count": null,
   "metadata": {
    "colab": {
     "base_uri": "https://localhost:8080/"
    },
    "id": "G8AW_dw3EsPD",
    "outputId": "38c7b3ec-036b-41f5-9078-928fdd36cdfe"
   },
   "outputs": [
    {
     "name": "stdout",
     "output_type": "stream",
     "text": [
      "Epoch 0/29\n",
      "----------\n",
      "train Loss: 0.6863 Acc: 0.6143\n",
      "val Loss: 0.5424 Acc: 0.6444\n",
      "\n",
      "Epoch 1/29\n",
      "----------\n",
      "train Loss: 0.5675 Acc: 0.7190\n",
      "val Loss: 0.3053 Acc: 0.8667\n",
      "\n",
      "Epoch 2/29\n",
      "----------\n",
      "train Loss: 0.3378 Acc: 0.8667\n",
      "val Loss: 0.3344 Acc: 0.8889\n",
      "\n",
      "Epoch 3/29\n",
      "----------\n",
      "train Loss: 0.4324 Acc: 0.8476\n",
      "val Loss: 0.3184 Acc: 0.8667\n",
      "\n",
      "Epoch 4/29\n",
      "----------\n",
      "train Loss: 0.4694 Acc: 0.8238\n",
      "val Loss: 0.3480 Acc: 0.8667\n",
      "\n",
      "Epoch 5/29\n",
      "----------\n",
      "train Loss: 0.2858 Acc: 0.8857\n",
      "val Loss: 0.5155 Acc: 0.8222\n",
      "\n",
      "Epoch 6/29\n",
      "----------\n",
      "train Loss: 0.2248 Acc: 0.9286\n",
      "val Loss: 0.5998 Acc: 0.8000\n",
      "\n",
      "Epoch 7/29\n",
      "----------\n",
      "train Loss: 0.1387 Acc: 0.9476\n",
      "val Loss: 0.3467 Acc: 0.8667\n",
      "\n",
      "Epoch 8/29\n",
      "----------\n",
      "train Loss: 0.3268 Acc: 0.8905\n",
      "val Loss: 0.5603 Acc: 0.8444\n",
      "\n",
      "Epoch 9/29\n",
      "----------\n",
      "train Loss: 0.1951 Acc: 0.9381\n",
      "val Loss: 0.4016 Acc: 0.8889\n",
      "\n",
      "Epoch 10/29\n",
      "----------\n",
      "train Loss: 0.2122 Acc: 0.9000\n",
      "val Loss: 0.4281 Acc: 0.8667\n",
      "\n",
      "Epoch 11/29\n",
      "----------\n",
      "train Loss: 0.2384 Acc: 0.9095\n",
      "val Loss: 0.4159 Acc: 0.8444\n",
      "\n",
      "Epoch 12/29\n",
      "----------\n",
      "train Loss: 0.2348 Acc: 0.9238\n",
      "val Loss: 0.6535 Acc: 0.8444\n",
      "\n",
      "Epoch 13/29\n",
      "----------\n",
      "train Loss: 0.1036 Acc: 0.9524\n",
      "val Loss: 0.5720 Acc: 0.8444\n",
      "\n",
      "Epoch 14/29\n",
      "----------\n",
      "train Loss: 0.3157 Acc: 0.9095\n",
      "val Loss: 0.4441 Acc: 0.8000\n",
      "\n",
      "Epoch 15/29\n",
      "----------\n",
      "train Loss: 0.1786 Acc: 0.9429\n",
      "val Loss: 0.5130 Acc: 0.8667\n",
      "\n",
      "Epoch 16/29\n",
      "----------\n",
      "train Loss: 0.2100 Acc: 0.9190\n",
      "val Loss: 0.3575 Acc: 0.8667\n",
      "\n",
      "Epoch 17/29\n",
      "----------\n",
      "train Loss: 0.1679 Acc: 0.9429\n",
      "val Loss: 0.4090 Acc: 0.8667\n",
      "\n",
      "Epoch 18/29\n",
      "----------\n",
      "train Loss: 0.1439 Acc: 0.9429\n",
      "val Loss: 0.4280 Acc: 0.8444\n",
      "\n",
      "Epoch 19/29\n",
      "----------\n",
      "train Loss: 0.2130 Acc: 0.9238\n",
      "val Loss: 0.5203 Acc: 0.8444\n",
      "\n",
      "Epoch 20/29\n",
      "----------\n",
      "train Loss: 0.1116 Acc: 0.9667\n",
      "val Loss: 0.4135 Acc: 0.8444\n",
      "\n",
      "Epoch 21/29\n",
      "----------\n",
      "train Loss: 0.0606 Acc: 0.9810\n",
      "val Loss: 0.5160 Acc: 0.8222\n",
      "\n",
      "Epoch 22/29\n",
      "----------\n",
      "train Loss: 0.1252 Acc: 0.9667\n",
      "val Loss: 0.4127 Acc: 0.8222\n",
      "\n",
      "Epoch 23/29\n",
      "----------\n",
      "train Loss: 0.0626 Acc: 0.9810\n",
      "val Loss: 0.6551 Acc: 0.8444\n",
      "\n",
      "Epoch 24/29\n",
      "----------\n",
      "train Loss: 0.2403 Acc: 0.9190\n",
      "val Loss: 0.3066 Acc: 0.8889\n",
      "\n",
      "Epoch 25/29\n",
      "----------\n",
      "train Loss: 0.1776 Acc: 0.9286\n",
      "val Loss: 0.3373 Acc: 0.8667\n",
      "\n",
      "Epoch 26/29\n",
      "----------\n",
      "train Loss: 0.1547 Acc: 0.9429\n",
      "val Loss: 0.3015 Acc: 0.8444\n",
      "\n",
      "Epoch 27/29\n",
      "----------\n",
      "train Loss: 0.0759 Acc: 0.9762\n",
      "val Loss: 0.2824 Acc: 0.8667\n",
      "\n",
      "Epoch 28/29\n",
      "----------\n",
      "train Loss: 0.1131 Acc: 0.9476\n",
      "val Loss: 0.5228 Acc: 0.8667\n",
      "\n",
      "Epoch 29/29\n",
      "----------\n",
      "train Loss: 0.1883 Acc: 0.9238\n",
      "val Loss: 0.5376 Acc: 0.8667\n",
      "\n",
      "Training complete in 34m 55s\n",
      "Best val Acc: 0.888889\n"
     ]
    }
   ],
   "source": [
    "# Train and evaluate\n",
    "model_ft, hist = Fight_utils.train_model(device,model_ft, dataloaders_dict, criterion, optimizer_ft, num_epochs=epochs)"
   ]
  },
  {
   "cell_type": "code",
   "execution_count": null,
   "metadata": {
    "colab": {
     "base_uri": "https://localhost:8080/"
    },
    "id": "bIHThadai1bS",
    "outputId": "f7bf3a4f-0c87-4eec-bc94-775784972e23"
   },
   "outputs": [
    {
     "name": "stdout",
     "output_type": "stream",
     "text": [
      "Training complete in 0m 4s\n",
      "Loss: 0.4137 Acc: 0.8222\n"
     ]
    }
   ],
   "source": [
    "since = time.time()\n",
    "test_loader = torch.utils.data.DataLoader(dataset=test_dataset, batch_size=batch_size, shuffle=True)\n",
    "model_ft.eval()\n",
    "running_loss = 0.0\n",
    "running_corrects = 0\n",
    "y_test = []\n",
    "y_pred = []\n",
    "for inputs, labels in test_loader:\n",
    "  inputs = inputs.to(device)\n",
    "  labels = labels.to(device)\n",
    "  optimizer_ft.zero_grad()\n",
    "  with torch.set_grad_enabled(False):\n",
    "    outputs = model_ft(inputs)\n",
    "    loss = criterion(outputs, labels)\n",
    "    _, preds = torch.max(outputs, 1)\n",
    "  running_loss += loss.item() * inputs.size(0)\n",
    "  running_corrects += torch.sum(preds == labels.data)\n",
    "  y_test += labels.data.tolist()\n",
    "  y_pred += preds.data.tolist()\n",
    "\n",
    "epoch_loss = running_loss / len(test_loader.dataset)\n",
    "epoch_acc = running_corrects.double() / len(test_loader.dataset)\n",
    "time_elapsed = time.time() - since\n",
    "print('Training complete in {:.0f}m {:.0f}s'.format(time_elapsed // 60, time_elapsed % 60))\n",
    "print('Loss: {:.4f} Acc: {:.4f}'.format(epoch_loss, epoch_acc))"
   ]
  },
  {
   "cell_type": "code",
   "execution_count": null,
   "metadata": {
    "colab": {
     "base_uri": "https://localhost:8080/"
    },
    "id": "OUk7lYPixUqj",
    "outputId": "52a8f299-d5ab-4d51-b75d-4b54ca6573ff"
   },
   "outputs": [
    {
     "name": "stdout",
     "output_type": "stream",
     "text": [
      "[[16  6]\n",
      " [ 2 21]]\n"
     ]
    }
   ],
   "source": [
    "from sklearn.metrics import confusion_matrix\n",
    "#Generate the confusion matrix\n",
    "cf_matrix = confusion_matrix(y_test, y_pred)\n",
    "print(cf_matrix)"
   ]
  },
  {
   "cell_type": "code",
   "execution_count": null,
   "metadata": {
    "colab": {
     "base_uri": "https://localhost:8080/",
     "height": 337
    },
    "id": "NkCen-JYzmL2",
    "outputId": "d0841c4e-8eab-4f50-8e21-79e14df5693b"
   },
   "outputs": [
    {
     "data": {
      "image/png": "[encoded data removed]",
      "text/plain": [
       "<Figure size 432x288 with 2 Axes>"
      ]
     },
     "metadata": {
      "needs_background": "light"
     },
     "output_type": "display_data"
    }
   ],
   "source": [
    "import matplotlib.pyplot as plt\n",
    "import seaborn as sns\n",
    "ax = sns.heatmap(cf_matrix, annot=True, cmap='Blues')\n",
    "ax.set_title('Confusion Matrix\\n\\n');\n",
    "ax.set_xlabel('\\nPredicted Values')\n",
    "ax.set_ylabel('Actual Values ');\n",
    "## Ticket labels - List must be in alphabetical order\n",
    "ax.xaxis.set_ticklabels(['fight','noFight'])\n",
    "ax.yaxis.set_ticklabels(['fight','noFight'])\n",
    "## Display the visualization of the Confusion Matrix.\n",
    "plt.show()"
   ]
  },
  {
   "cell_type": "markdown",
   "metadata": {
    "id": "mZgiuCabdPAL"
   },
   "source": [
    "# Save and Load the Model"
   ]
  },
  {
   "cell_type": "code",
   "execution_count": null,
   "metadata": {
    "id": "G2SShMx4Wgtw"
   },
   "outputs": [],
   "source": [
    "# # To Save the Model\n",
    "# PATH=\"/content/drive/MyDrive/Fight_Detection_Project/First_Run_State70_Seq16_Batch8/model_16_70_8_0.8667.pth\"\n",
    "# torch.save(model_ft.state_dict(), PATH)"
   ]
  },
  {
   "cell_type": "code",
   "execution_count": null,
   "metadata": {
    "ExecuteTime": {
     "end_time": "2023-08-18T11:11:14.654443Z",
     "start_time": "2023-08-18T11:11:14.285184Z"
    },
    "id": "Y2jlP1JvWpmt"
   },
   "outputs": [],
   "source": [
    "# Later to Load the Saved Model:\n",
    "PATH=\"../Models/model_16_m3_0.8888.pth\"\n",
    "model_ft = torchvision.models.video.r2plus1d_18(pretrained=True, progress=True)\n",
    "num_ftrs = model_ft.fc.in_features   #in_features\n",
    "model_ft.fc = torch.nn.Linear(num_ftrs, 2) #nn.Linear(in_features, out_features)\n",
    "\n",
    "model_ft.load_state_dict(torch.load(PATH, map_location=torch.device('cpu')),)\n",
    "\n",
    "model_ft.to(device)\n",
    "model_ft.eval()"
   ]
  },
  {
   "cell_type": "markdown",
   "metadata": {
    "id": "YrDZnx0uLrq3"
   },
   "source": [
    "# Predict"
   ]
  },
  {
   "cell_type": "code",
   "execution_count": null,
   "metadata": {
    "ExecuteTime": {
     "end_time": "2023-08-18T11:15:42.213507Z",
     "start_time": "2023-08-18T11:15:40.146971Z"
    },
    "id": "Kjc5_P2xivy-"
   },
   "outputs": [],
   "source": [
    "# Download Videos From Youtube for Testing\n",
    "Fight_utils.downloadYouTube(\"https://www.youtube.com/watch?v=dxOpYEFf9zs&ab_channel=PluggingDaily\", \"/content/\")\n",
    "Fight_utils.downloadYouTube(\"https://www.youtube.com/watch?v=rEiEJT6B7Yo&ab_channel=TelegramVideo\",\"/content/\")\n",
    "\n",
    "# Rename the Videos\n",
    "!mv \"/content/CRAZY FIGHT INSIDE OF CHINESE RESTAURANT 2020.mp4\" \"/content/test1.mp4\"\n",
    "!mv \"/content/Fight outside Dubai Restaurant and Lounge.mp4\" \"/content/test2.mp4\""
   ]
  },
  {
   "cell_type": "code",
   "execution_count": null,
   "metadata": {
    "id": "DXMoQbXGlng9"
   },
   "outputs": [],
   "source": [
    "# Extract video frames of it (noFight Video)\n",
    "%%capture\n",
    "!y | ffmpeg -ss 00:00:00 -i /content/test1.mp4 -t 00:00:10 -c copy /content/out1.mp4\n",
    "\n",
    "# Extract video frames of it (Fight Video)\n",
    "!y | ffmpeg -ss 00:02:28 -i /content/test1.mp4 -t 00:00:10 -c copy /content/out2.mp4\n",
    "\n",
    "# Extract video frames of it (Fight & noFight Video)\n",
    "!y | ffmpeg -ss 00:01:28 -i /content/test1.mp4 -t 00:02:28 -c copy /content/out3.mp4\n",
    "\n",
    "# Extract video frames of it (Fight & noFight Video)\n",
    "!y | ffmpeg -ss 00:01:10 -i /content/test2.mp4 -t 00:00:50 -c copy /content/out4.mp4"
   ]
  },
  {
   "cell_type": "code",
   "execution_count": null,
   "metadata": {
    "id": "xGj3x_nLl0Or"
   },
   "outputs": [],
   "source": [
    "# output video (noFight Video)\n",
    "path_output = \"/content/out1.mp4\"\n",
    "Fight_utils.show_video(path_output, width=960)"
   ]
  },
  {
   "cell_type": "code",
   "execution_count": null,
   "metadata": {
    "id": "WWOgcNUrhqp2"
   },
   "outputs": [],
   "source": [
    "# output video (Fight Video)\n",
    "path_output = \"/content/out2.mp4\"\n",
    "Fight_utils.show_video(path_output, width=960)\n"
   ]
  },
  {
   "cell_type": "code",
   "execution_count": null,
   "metadata": {
    "id": "-51RFzr5IDNC"
   },
   "outputs": [],
   "source": [
    "# output video (fight & noFight Video)\n",
    "path_output = \"/content/out3.mp4\"\n",
    "Fight_utils.show_video(path_output, width=960)"
   ]
  },
  {
   "cell_type": "code",
   "execution_count": null,
   "metadata": {
    "id": "mDWpGVwiVwoz"
   },
   "outputs": [],
   "source": [
    "# output video (fight & noFight Video)\n",
    "path_output = \"/content/out4.mp4\"\n",
    "Fight_utils.show_video(path_output, width=960)"
   ]
  },
  {
   "cell_type": "code",
   "execution_count": null,
   "metadata": {
    "id": "xBTOrf9Bk1Pd"
   },
   "outputs": [],
   "source": [
    "video_file_path1=\"/content/out1.mp4\"\n",
    "video_file_path2=\"/content/out2.mp4\"\n",
    "video_file_path3=\"/content/out3.mp4\"\n",
    "video_file_path4=\"/content/out4.mp4\"\n",
    "SEQUENCE_LENGTH=16"
   ]
  },
  {
   "cell_type": "code",
   "execution_count": null,
   "metadata": {
    "colab": {
     "base_uri": "https://localhost:8080/"
    },
    "id": "QCECCd24mBrW",
    "outputId": "0f8fb8a5-4a14-42eb-fb0c-4a7670a0ac25"
   },
   "outputs": [
    {
     "name": "stdout",
     "output_type": "stream",
     "text": [
      "noFight\n",
      "[('noFight', 0.94467), ('fight', 0.05533)]\n",
      "***********\n",
      "time is: 0.9961555004119873\n",
      "noFight\n"
     ]
    }
   ],
   "source": [
    "print(Fight_utils.FightInference(video_file_path1,CLASSES_LIST,model_ft,device,SEQUENCE_LENGTH))\n",
    "print(Fight_utils.FightInference_Time(video_file_path1,CLASSES_LIST,model_ft,device,SEQUENCE_LENGTH))"
   ]
  },
  {
   "cell_type": "code",
   "execution_count": null,
   "metadata": {
    "colab": {
     "base_uri": "https://localhost:8080/"
    },
    "id": "62vGYR8QTY90",
    "outputId": "ebc60729-e411-4a39-cb5f-a1d3833b76d0"
   },
   "outputs": [
    {
     "name": "stdout",
     "output_type": "stream",
     "text": [
      "fight\n",
      "[('fight', 1.0), ('noFight', 0.0)]\n",
      "***********\n",
      "time is: 1.4432260990142822\n",
      "fight\n"
     ]
    }
   ],
   "source": [
    "print(Fight_utils.FightInference(video_file_path2,CLASSES_LIST,model_ft,device,SEQUENCE_LENGTH))\n",
    "print(Fight_utils.FightInference_Time(video_file_path2,CLASSES_LIST,model_ft,device,SEQUENCE_LENGTH))"
   ]
  },
  {
   "cell_type": "code",
   "execution_count": null,
   "metadata": {
    "colab": {
     "base_uri": "https://localhost:8080/"
    },
    "id": "bJ9qaiVHTZsm",
    "outputId": "9cda596b-6d30-4f86-efed-5d54aafa5bd3"
   },
   "outputs": [
    {
     "name": "stdout",
     "output_type": "stream",
     "text": [
      "fight\n",
      "[('fight', 1.0), ('noFight', 0.0)]\n",
      "***********\n",
      "time is: 1.2459924221038818\n",
      "fight\n"
     ]
    }
   ],
   "source": [
    "print(Fight_utils.FightInference(video_file_path3,CLASSES_LIST,model_ft,device,SEQUENCE_LENGTH))\n",
    "print(Fight_utils.FightInference_Time(video_file_path3,CLASSES_LIST,model_ft,device,SEQUENCE_LENGTH))"
   ]
  },
  {
   "cell_type": "code",
   "execution_count": null,
   "metadata": {
    "colab": {
     "base_uri": "https://localhost:8080/"
    },
    "id": "ZMCQHlsHTaLJ",
    "outputId": "5d170c6e-8469-4148-90cb-a14c77cb2248"
   },
   "outputs": [
    {
     "name": "stdout",
     "output_type": "stream",
     "text": [
      "fight\n",
      "[('fight', 0.99943), ('noFight', 0.00057)]\n",
      "***********\n",
      "time is: 4.212649822235107\n",
      "fight\n"
     ]
    }
   ],
   "source": [
    "print(Fight_utils.FightInference(video_file_path4,CLASSES_LIST,model_ft,device,SEQUENCE_LENGTH))\n",
    "print(Fight_utils.FightInference_Time(video_file_path4,CLASSES_LIST,model_ft,device,SEQUENCE_LENGTH))"
   ]
  },
  {
   "cell_type": "markdown",
   "metadata": {
    "id": "DGsNx5k0nTqw"
   },
   "source": [
    "__________________________________________________________________________"
   ]
  },
  {
   "cell_type": "markdown",
   "metadata": {
    "id": "lK-R0D4Cm7bx"
   },
   "source": [
    "# Inference on Video Stream"
   ]
  },
  {
   "cell_type": "markdown",
   "metadata": {
    "id": "2KoF3kU_QywL"
   },
   "source": [
    "## noFight Video"
   ]
  },
  {
   "cell_type": "code",
   "execution_count": null,
   "metadata": {
    "id": "YtZgdF2jiGuL"
   },
   "outputs": [],
   "source": [
    "start_time = time.time()\n",
    "outVideo_1=Fight_utils.showIference(1,CLASSES_LIST,model_ft,device,32,2)\n",
    "elapsed = time.time() - start_time\n",
    "print(\"time is:\",elapsed)"
   ]
  },
  {
   "cell_type": "code",
   "execution_count": null,
   "metadata": {
    "id": "KOpQtXf7m-5a"
   },
   "outputs": [],
   "source": [
    "VideoFileClip(outVideo_1, audio=False, target_resolution=(300,None)).ipython_display()"
   ]
  },
  {
   "cell_type": "markdown",
   "metadata": {
    "id": "rRN1p6aMQ5wW"
   },
   "source": [
    "## Fight Video"
   ]
  },
  {
   "cell_type": "code",
   "execution_count": null,
   "metadata": {
    "id": "4hs60zFwiKVt"
   },
   "outputs": [],
   "source": [
    "start_time = time.time()\n",
    "outVideo_2=Fight_utils.showIference(2,CLASSES_LIST,model_ft,device,16,2)\n",
    "elapsed = time.time() - start_time\n",
    "print(\"time is:\",elapsed)"
   ]
  },
  {
   "cell_type": "code",
   "execution_count": null,
   "metadata": {
    "id": "-VNggS-Covmy"
   },
   "outputs": [],
   "source": [
    "VideoFileClip(outVideo_2, audio=False, target_resolution=(300,None)).ipython_display()"
   ]
  },
  {
   "cell_type": "markdown",
   "metadata": {
    "id": "vgTuwZ_HRKq6"
   },
   "source": [
    "## Video Contains Fight and noFight Video with `Seq 16`"
   ]
  },
  {
   "cell_type": "code",
   "execution_count": null,
   "metadata": {
    "id": "ZxAPUZAuiNIV"
   },
   "outputs": [],
   "source": [
    "start_time = time.time()\n",
    "outVideo_3=Fight_utils.showIference(3,CLASSES_LIST,model_ft,device,16,2)\n",
    "elapsed = time.time() - start_time\n",
    "print(\"time is:\",elapsed)"
   ]
  },
  {
   "cell_type": "markdown",
   "metadata": {
    "id": "l6v0a-QwZvj6"
   },
   "source": [
    "## Video Contains Fight and noFight Video with `Seq 16`"
   ]
  },
  {
   "cell_type": "code",
   "execution_count": null,
   "metadata": {
    "id": "msONRuiEiR50"
   },
   "outputs": [],
   "source": [
    "start_time = time.time()\n",
    "outVideo_4=Fight_utils.showIference(4,CLASSES_LIST,model_ft,device,16,2)\n",
    "elapsed = time.time() - start_time\n",
    "print(\"time is:\",elapsed)"
   ]
  },
  {
   "cell_type": "code",
   "execution_count": null,
   "metadata": {
    "id": "zszwLuBsy2-2"
   },
   "outputs": [],
   "source": [
    "VideoFileClip(outVideo_4, audio=False, target_resolution=(300,None)).ipython_display()"
   ]
  },
  {
   "cell_type": "markdown",
   "metadata": {
    "id": "q3cOtrH5ToV1"
   },
   "source": [
    "## Save Videos to Drive"
   ]
  },
  {
   "cell_type": "code",
   "execution_count": null,
   "metadata": {
    "id": "yMse859uRReF"
   },
   "outputs": [],
   "source": [
    "# Save Video to Drive\n",
    "!cp '/content/inferOut_1_16.mp4' \"/content/drive/MyDrive/Fight_Detection_Project/\"\n",
    "!cp '/content/inferOut_2_16.mp4' \"/content/drive/MyDrive/Fight_Detection_Project/\"\n",
    "!cp '/content/inferOut_3_16.mp4' \"/content/drive/MyDrive/Fight_Detection_Project/\"\n",
    "!cp '/content/inferOut_4_16.mp4' \"/content/drive/MyDrive/Fight_Detection_Project/\""
   ]
  },
  {
   "cell_type": "markdown",
   "metadata": {
    "id": "Ig-CtZ8ICgp9"
   },
   "source": [
    "________________________________________________________________"
   ]
  },
  {
   "cell_type": "code",
   "execution_count": 4,
   "metadata": {
    "ExecuteTime": {
     "end_time": "2023-08-20T10:55:31.296955Z",
     "start_time": "2023-08-20T10:55:29.637873Z"
    }
   },
   "outputs": [],
   "source": [
    "import torch\n",
    "from Fight_utils import loadModel, predict_on_video,start_streaming\n",
    "import argparse\n",
    "import time"
   ]
  },
  {
   "cell_type": "code",
   "execution_count": 1,
   "metadata": {
    "ExecuteTime": {
     "end_time": "2023-08-20T10:54:32.518688Z",
     "start_time": "2023-08-20T10:54:32.507963Z"
    }
   },
   "outputs": [],
   "source": [
    "def loadModel(modelPath):\n",
    "  PATH=modelPath\n",
    "  model_ft = torchvision.models.video.mc3_18(pretrained=True, progress=False)\n",
    "  num_ftrs = model_ft.fc.in_features         #in_features\n",
    "  model_ft.fc = torch.nn.Linear(num_ftrs, 2) #nn.Linear(in_features, out_features)\n",
    "  model_ft.load_state_dict(torch.load(PATH,map_location=torch.device(device)))\n",
    "  model_ft.to(device)\n",
    "  model_ft.eval()\n",
    "  return model_ft"
   ]
  },
  {
   "cell_type": "code",
   "execution_count": 5,
   "metadata": {
    "ExecuteTime": {
     "end_time": "2023-08-20T10:55:58.507867Z",
     "start_time": "2023-08-20T10:55:58.265336Z"
    }
   },
   "outputs": [],
   "source": [
    "model = loadModel(\"model_16_m3_0.8888.pth\")"
   ]
  },
  {
   "cell_type": "code",
   "execution_count": 6,
   "metadata": {
    "ExecuteTime": {
     "end_time": "2023-08-20T10:56:03.058744Z",
     "start_time": "2023-08-20T10:56:03.052896Z"
    }
   },
   "outputs": [
    {
     "data": {
      "text/plain": [
       "VideoResNet(\n",
       "  (stem): BasicStem(\n",
       "    (0): Conv3d(3, 64, kernel_size=(3, 7, 7), stride=(1, 2, 2), padding=(1, 3, 3), bias=False)\n",
       "    (1): BatchNorm3d(64, eps=1e-05, momentum=0.1, affine=True, track_running_stats=True)\n",
       "    (2): ReLU(inplace=True)\n",
       "  )\n",
       "  (layer1): Sequential(\n",
       "    (0): BasicBlock(\n",
       "      (conv1): Sequential(\n",
       "        (0): Conv3DSimple(64, 64, kernel_size=(3, 3, 3), stride=(1, 1, 1), padding=(1, 1, 1), bias=False)\n",
       "        (1): BatchNorm3d(64, eps=1e-05, momentum=0.1, affine=True, track_running_stats=True)\n",
       "        (2): ReLU(inplace=True)\n",
       "      )\n",
       "      (conv2): Sequential(\n",
       "        (0): Conv3DSimple(64, 64, kernel_size=(3, 3, 3), stride=(1, 1, 1), padding=(1, 1, 1), bias=False)\n",
       "        (1): BatchNorm3d(64, eps=1e-05, momentum=0.1, affine=True, track_running_stats=True)\n",
       "      )\n",
       "      (relu): ReLU(inplace=True)\n",
       "    )\n",
       "    (1): BasicBlock(\n",
       "      (conv1): Sequential(\n",
       "        (0): Conv3DSimple(64, 64, kernel_size=(3, 3, 3), stride=(1, 1, 1), padding=(1, 1, 1), bias=False)\n",
       "        (1): BatchNorm3d(64, eps=1e-05, momentum=0.1, affine=True, track_running_stats=True)\n",
       "        (2): ReLU(inplace=True)\n",
       "      )\n",
       "      (conv2): Sequential(\n",
       "        (0): Conv3DSimple(64, 64, kernel_size=(3, 3, 3), stride=(1, 1, 1), padding=(1, 1, 1), bias=False)\n",
       "        (1): BatchNorm3d(64, eps=1e-05, momentum=0.1, affine=True, track_running_stats=True)\n",
       "      )\n",
       "      (relu): ReLU(inplace=True)\n",
       "    )\n",
       "  )\n",
       "  (layer2): Sequential(\n",
       "    (0): BasicBlock(\n",
       "      (conv1): Sequential(\n",
       "        (0): Conv3DNoTemporal(64, 128, kernel_size=(1, 3, 3), stride=(1, 2, 2), padding=(0, 1, 1), bias=False)\n",
       "        (1): BatchNorm3d(128, eps=1e-05, momentum=0.1, affine=True, track_running_stats=True)\n",
       "        (2): ReLU(inplace=True)\n",
       "      )\n",
       "      (conv2): Sequential(\n",
       "        (0): Conv3DNoTemporal(128, 128, kernel_size=(1, 3, 3), stride=(1, 1, 1), padding=(0, 1, 1), bias=False)\n",
       "        (1): BatchNorm3d(128, eps=1e-05, momentum=0.1, affine=True, track_running_stats=True)\n",
       "      )\n",
       "      (relu): ReLU(inplace=True)\n",
       "      (downsample): Sequential(\n",
       "        (0): Conv3d(64, 128, kernel_size=(1, 1, 1), stride=(1, 2, 2), bias=False)\n",
       "        (1): BatchNorm3d(128, eps=1e-05, momentum=0.1, affine=True, track_running_stats=True)\n",
       "      )\n",
       "    )\n",
       "    (1): BasicBlock(\n",
       "      (conv1): Sequential(\n",
       "        (0): Conv3DNoTemporal(128, 128, kernel_size=(1, 3, 3), stride=(1, 1, 1), padding=(0, 1, 1), bias=False)\n",
       "        (1): BatchNorm3d(128, eps=1e-05, momentum=0.1, affine=True, track_running_stats=True)\n",
       "        (2): ReLU(inplace=True)\n",
       "      )\n",
       "      (conv2): Sequential(\n",
       "        (0): Conv3DNoTemporal(128, 128, kernel_size=(1, 3, 3), stride=(1, 1, 1), padding=(0, 1, 1), bias=False)\n",
       "        (1): BatchNorm3d(128, eps=1e-05, momentum=0.1, affine=True, track_running_stats=True)\n",
       "      )\n",
       "      (relu): ReLU(inplace=True)\n",
       "    )\n",
       "  )\n",
       "  (layer3): Sequential(\n",
       "    (0): BasicBlock(\n",
       "      (conv1): Sequential(\n",
       "        (0): Conv3DNoTemporal(128, 256, kernel_size=(1, 3, 3), stride=(1, 2, 2), padding=(0, 1, 1), bias=False)\n",
       "        (1): BatchNorm3d(256, eps=1e-05, momentum=0.1, affine=True, track_running_stats=True)\n",
       "        (2): ReLU(inplace=True)\n",
       "      )\n",
       "      (conv2): Sequential(\n",
       "        (0): Conv3DNoTemporal(256, 256, kernel_size=(1, 3, 3), stride=(1, 1, 1), padding=(0, 1, 1), bias=False)\n",
       "        (1): BatchNorm3d(256, eps=1e-05, momentum=0.1, affine=True, track_running_stats=True)\n",
       "      )\n",
       "      (relu): ReLU(inplace=True)\n",
       "      (downsample): Sequential(\n",
       "        (0): Conv3d(128, 256, kernel_size=(1, 1, 1), stride=(1, 2, 2), bias=False)\n",
       "        (1): BatchNorm3d(256, eps=1e-05, momentum=0.1, affine=True, track_running_stats=True)\n",
       "      )\n",
       "    )\n",
       "    (1): BasicBlock(\n",
       "      (conv1): Sequential(\n",
       "        (0): Conv3DNoTemporal(256, 256, kernel_size=(1, 3, 3), stride=(1, 1, 1), padding=(0, 1, 1), bias=False)\n",
       "        (1): BatchNorm3d(256, eps=1e-05, momentum=0.1, affine=True, track_running_stats=True)\n",
       "        (2): ReLU(inplace=True)\n",
       "      )\n",
       "      (conv2): Sequential(\n",
       "        (0): Conv3DNoTemporal(256, 256, kernel_size=(1, 3, 3), stride=(1, 1, 1), padding=(0, 1, 1), bias=False)\n",
       "        (1): BatchNorm3d(256, eps=1e-05, momentum=0.1, affine=True, track_running_stats=True)\n",
       "      )\n",
       "      (relu): ReLU(inplace=True)\n",
       "    )\n",
       "  )\n",
       "  (layer4): Sequential(\n",
       "    (0): BasicBlock(\n",
       "      (conv1): Sequential(\n",
       "        (0): Conv3DNoTemporal(256, 512, kernel_size=(1, 3, 3), stride=(1, 2, 2), padding=(0, 1, 1), bias=False)\n",
       "        (1): BatchNorm3d(512, eps=1e-05, momentum=0.1, affine=True, track_running_stats=True)\n",
       "        (2): ReLU(inplace=True)\n",
       "      )\n",
       "      (conv2): Sequential(\n",
       "        (0): Conv3DNoTemporal(512, 512, kernel_size=(1, 3, 3), stride=(1, 1, 1), padding=(0, 1, 1), bias=False)\n",
       "        (1): BatchNorm3d(512, eps=1e-05, momentum=0.1, affine=True, track_running_stats=True)\n",
       "      )\n",
       "      (relu): ReLU(inplace=True)\n",
       "      (downsample): Sequential(\n",
       "        (0): Conv3d(256, 512, kernel_size=(1, 1, 1), stride=(1, 2, 2), bias=False)\n",
       "        (1): BatchNorm3d(512, eps=1e-05, momentum=0.1, affine=True, track_running_stats=True)\n",
       "      )\n",
       "    )\n",
       "    (1): BasicBlock(\n",
       "      (conv1): Sequential(\n",
       "        (0): Conv3DNoTemporal(512, 512, kernel_size=(1, 3, 3), stride=(1, 1, 1), padding=(0, 1, 1), bias=False)\n",
       "        (1): BatchNorm3d(512, eps=1e-05, momentum=0.1, affine=True, track_running_stats=True)\n",
       "        (2): ReLU(inplace=True)\n",
       "      )\n",
       "      (conv2): Sequential(\n",
       "        (0): Conv3DNoTemporal(512, 512, kernel_size=(1, 3, 3), stride=(1, 1, 1), padding=(0, 1, 1), bias=False)\n",
       "        (1): BatchNorm3d(512, eps=1e-05, momentum=0.1, affine=True, track_running_stats=True)\n",
       "      )\n",
       "      (relu): ReLU(inplace=True)\n",
       "    )\n",
       "  )\n",
       "  (avgpool): AdaptiveAvgPool3d(output_size=(1, 1, 1))\n",
       "  (fc): Linear(in_features=512, out_features=2, bias=True)\n",
       ")"
      ]
     },
     "execution_count": 6,
     "metadata": {},
     "output_type": "execute_result"
    }
   ],
   "source": [
    "model"
   ]
  },
  {
   "cell_type": "code",
   "execution_count": 7,
   "metadata": {
    "ExecuteTime": {
     "end_time": "2023-08-20T10:56:51.952049Z",
     "start_time": "2023-08-20T10:56:43.856074Z"
    }
   },
   "outputs": [
    {
     "name": "stdout",
     "output_type": "stream",
     "text": [
      "Defaulting to user installation because normal site-packages is not writeable\n",
      "Collecting graphviz\n",
      "  Downloading graphviz-0.20.1-py3-none-any.whl (47 kB)\n",
      "\u001b[2K     \u001b[38;2;114;156;31m━━━━━━━━━━━━━━━━━━━━━━━━━━━━━━━━━━━━━━━\u001b[0m \u001b[32m47.0/47.0 KB\u001b[0m \u001b[31m360.1 kB/s\u001b[0m eta \u001b[36m0:00:00\u001b[0m1m331.2 kB/s\u001b[0m eta \u001b[36m0:00:01\u001b[0m\n",
      "\u001b[?25hInstalling collected packages: graphviz\n",
      "Successfully installed graphviz-0.20.1\n",
      "Defaulting to user installation because normal site-packages is not writeable\n",
      "Collecting torchviz\n",
      "  Downloading torchviz-0.0.2.tar.gz (4.9 kB)\n",
      "  Preparing metadata (setup.py) ... \u001b[?25ldone\n",
      "\u001b[?25hRequirement already satisfied: torch in /home/ubuntu/.local/lib/python3.10/site-packages (from torchviz) (1.11.0)\n",
      "Requirement already satisfied: graphviz in /home/ubuntu/.local/lib/python3.10/site-packages (from torchviz) (0.20.1)\n",
      "Requirement already satisfied: typing-extensions in /home/ubuntu/.local/lib/python3.10/site-packages (from torch->torchviz) (4.6.3)\n",
      "Building wheels for collected packages: torchviz\n",
      "  Building wheel for torchviz (setup.py) ... \u001b[?25ldone\n",
      "\u001b[?25h  Created wheel for torchviz: filename=torchviz-0.0.2-py3-none-any.whl size=4131 sha256=aa7c7870f54bcb318eb84843b8c8678ee6a57d497c8e01679dffe6be7114aebe\n",
      "  Stored in directory: /home/ubuntu/.cache/pip/wheels/4c/97/88/a02973217949e0db0c9f4346d154085f4725f99c4f15a87094\n",
      "Successfully built torchviz\n",
      "Installing collected packages: torchviz\n",
      "Successfully installed torchviz-0.0.2\n"
     ]
    }
   ],
   "source": [
    "!pip install graphviz\n",
    "!pip install torchviz"
   ]
  },
  {
   "cell_type": "code",
   "execution_count": 19,
   "metadata": {
    "ExecuteTime": {
     "end_time": "2023-08-20T11:00:33.140757Z",
     "start_time": "2023-08-20T11:00:33.137312Z"
    }
   },
   "outputs": [
    {
     "data": {
      "text/plain": [
       "VideoResNet(\n",
       "  (stem): BasicStem(\n",
       "    (0): Conv3d(3, 64, kernel_size=(3, 7, 7), stride=(1, 2, 2), padding=(1, 3, 3), bias=False)\n",
       "    (1): BatchNorm3d(64, eps=1e-05, momentum=0.1, affine=True, track_running_stats=True)\n",
       "    (2): ReLU(inplace=True)\n",
       "  )\n",
       "  (layer1): Sequential(\n",
       "    (0): BasicBlock(\n",
       "      (conv1): Sequential(\n",
       "        (0): Conv3DSimple(64, 64, kernel_size=(3, 3, 3), stride=(1, 1, 1), padding=(1, 1, 1), bias=False)\n",
       "        (1): BatchNorm3d(64, eps=1e-05, momentum=0.1, affine=True, track_running_stats=True)\n",
       "        (2): ReLU(inplace=True)\n",
       "      )\n",
       "      (conv2): Sequential(\n",
       "        (0): Conv3DSimple(64, 64, kernel_size=(3, 3, 3), stride=(1, 1, 1), padding=(1, 1, 1), bias=False)\n",
       "        (1): BatchNorm3d(64, eps=1e-05, momentum=0.1, affine=True, track_running_stats=True)\n",
       "      )\n",
       "      (relu): ReLU(inplace=True)\n",
       "    )\n",
       "    (1): BasicBlock(\n",
       "      (conv1): Sequential(\n",
       "        (0): Conv3DSimple(64, 64, kernel_size=(3, 3, 3), stride=(1, 1, 1), padding=(1, 1, 1), bias=False)\n",
       "        (1): BatchNorm3d(64, eps=1e-05, momentum=0.1, affine=True, track_running_stats=True)\n",
       "        (2): ReLU(inplace=True)\n",
       "      )\n",
       "      (conv2): Sequential(\n",
       "        (0): Conv3DSimple(64, 64, kernel_size=(3, 3, 3), stride=(1, 1, 1), padding=(1, 1, 1), bias=False)\n",
       "        (1): BatchNorm3d(64, eps=1e-05, momentum=0.1, affine=True, track_running_stats=True)\n",
       "      )\n",
       "      (relu): ReLU(inplace=True)\n",
       "    )\n",
       "  )\n",
       "  (layer2): Sequential(\n",
       "    (0): BasicBlock(\n",
       "      (conv1): Sequential(\n",
       "        (0): Conv3DNoTemporal(64, 128, kernel_size=(1, 3, 3), stride=(1, 2, 2), padding=(0, 1, 1), bias=False)\n",
       "        (1): BatchNorm3d(128, eps=1e-05, momentum=0.1, affine=True, track_running_stats=True)\n",
       "        (2): ReLU(inplace=True)\n",
       "      )\n",
       "      (conv2): Sequential(\n",
       "        (0): Conv3DNoTemporal(128, 128, kernel_size=(1, 3, 3), stride=(1, 1, 1), padding=(0, 1, 1), bias=False)\n",
       "        (1): BatchNorm3d(128, eps=1e-05, momentum=0.1, affine=True, track_running_stats=True)\n",
       "      )\n",
       "      (relu): ReLU(inplace=True)\n",
       "      (downsample): Sequential(\n",
       "        (0): Conv3d(64, 128, kernel_size=(1, 1, 1), stride=(1, 2, 2), bias=False)\n",
       "        (1): BatchNorm3d(128, eps=1e-05, momentum=0.1, affine=True, track_running_stats=True)\n",
       "      )\n",
       "    )\n",
       "    (1): BasicBlock(\n",
       "      (conv1): Sequential(\n",
       "        (0): Conv3DNoTemporal(128, 128, kernel_size=(1, 3, 3), stride=(1, 1, 1), padding=(0, 1, 1), bias=False)\n",
       "        (1): BatchNorm3d(128, eps=1e-05, momentum=0.1, affine=True, track_running_stats=True)\n",
       "        (2): ReLU(inplace=True)\n",
       "      )\n",
       "      (conv2): Sequential(\n",
       "        (0): Conv3DNoTemporal(128, 128, kernel_size=(1, 3, 3), stride=(1, 1, 1), padding=(0, 1, 1), bias=False)\n",
       "        (1): BatchNorm3d(128, eps=1e-05, momentum=0.1, affine=True, track_running_stats=True)\n",
       "      )\n",
       "      (relu): ReLU(inplace=True)\n",
       "    )\n",
       "  )\n",
       "  (layer3): Sequential(\n",
       "    (0): BasicBlock(\n",
       "      (conv1): Sequential(\n",
       "        (0): Conv3DNoTemporal(128, 256, kernel_size=(1, 3, 3), stride=(1, 2, 2), padding=(0, 1, 1), bias=False)\n",
       "        (1): BatchNorm3d(256, eps=1e-05, momentum=0.1, affine=True, track_running_stats=True)\n",
       "        (2): ReLU(inplace=True)\n",
       "      )\n",
       "      (conv2): Sequential(\n",
       "        (0): Conv3DNoTemporal(256, 256, kernel_size=(1, 3, 3), stride=(1, 1, 1), padding=(0, 1, 1), bias=False)\n",
       "        (1): BatchNorm3d(256, eps=1e-05, momentum=0.1, affine=True, track_running_stats=True)\n",
       "      )\n",
       "      (relu): ReLU(inplace=True)\n",
       "      (downsample): Sequential(\n",
       "        (0): Conv3d(128, 256, kernel_size=(1, 1, 1), stride=(1, 2, 2), bias=False)\n",
       "        (1): BatchNorm3d(256, eps=1e-05, momentum=0.1, affine=True, track_running_stats=True)\n",
       "      )\n",
       "    )\n",
       "    (1): BasicBlock(\n",
       "      (conv1): Sequential(\n",
       "        (0): Conv3DNoTemporal(256, 256, kernel_size=(1, 3, 3), stride=(1, 1, 1), padding=(0, 1, 1), bias=False)\n",
       "        (1): BatchNorm3d(256, eps=1e-05, momentum=0.1, affine=True, track_running_stats=True)\n",
       "        (2): ReLU(inplace=True)\n",
       "      )\n",
       "      (conv2): Sequential(\n",
       "        (0): Conv3DNoTemporal(256, 256, kernel_size=(1, 3, 3), stride=(1, 1, 1), padding=(0, 1, 1), bias=False)\n",
       "        (1): BatchNorm3d(256, eps=1e-05, momentum=0.1, affine=True, track_running_stats=True)\n",
       "      )\n",
       "      (relu): ReLU(inplace=True)\n",
       "    )\n",
       "  )\n",
       "  (layer4): Sequential(\n",
       "    (0): BasicBlock(\n",
       "      (conv1): Sequential(\n",
       "        (0): Conv3DNoTemporal(256, 512, kernel_size=(1, 3, 3), stride=(1, 2, 2), padding=(0, 1, 1), bias=False)\n",
       "        (1): BatchNorm3d(512, eps=1e-05, momentum=0.1, affine=True, track_running_stats=True)\n",
       "        (2): ReLU(inplace=True)\n",
       "      )\n",
       "      (conv2): Sequential(\n",
       "        (0): Conv3DNoTemporal(512, 512, kernel_size=(1, 3, 3), stride=(1, 1, 1), padding=(0, 1, 1), bias=False)\n",
       "        (1): BatchNorm3d(512, eps=1e-05, momentum=0.1, affine=True, track_running_stats=True)\n",
       "      )\n",
       "      (relu): ReLU(inplace=True)\n",
       "      (downsample): Sequential(\n",
       "        (0): Conv3d(256, 512, kernel_size=(1, 1, 1), stride=(1, 2, 2), bias=False)\n",
       "        (1): BatchNorm3d(512, eps=1e-05, momentum=0.1, affine=True, track_running_stats=True)\n",
       "      )\n",
       "    )\n",
       "    (1): BasicBlock(\n",
       "      (conv1): Sequential(\n",
       "        (0): Conv3DNoTemporal(512, 512, kernel_size=(1, 3, 3), stride=(1, 1, 1), padding=(0, 1, 1), bias=False)\n",
       "        (1): BatchNorm3d(512, eps=1e-05, momentum=0.1, affine=True, track_running_stats=True)\n",
       "        (2): ReLU(inplace=True)\n",
       "      )\n",
       "      (conv2): Sequential(\n",
       "        (0): Conv3DNoTemporal(512, 512, kernel_size=(1, 3, 3), stride=(1, 1, 1), padding=(0, 1, 1), bias=False)\n",
       "        (1): BatchNorm3d(512, eps=1e-05, momentum=0.1, affine=True, track_running_stats=True)\n",
       "      )\n",
       "      (relu): ReLU(inplace=True)\n",
       "    )\n",
       "  )\n",
       "  (avgpool): AdaptiveAvgPool3d(output_size=(1, 1, 1))\n",
       "  (fc): Linear(in_features=512, out_features=2, bias=True)\n",
       ")"
      ]
     },
     "execution_count": 19,
     "metadata": {},
     "output_type": "execute_result"
    }
   ],
   "source": [
    "model"
   ]
  }
 ],
 "metadata": {
  "accelerator": "GPU",
  "colab": {
   "collapsed_sections": [],
   "machine_shape": "hm",
   "name": "Fight_Detection_NoteBook_Final.ipynb",
   "provenance": []
  },
  "kernelspec": {
   "display_name": "Python 3 (ipykernel)",
   "language": "python",
   "name": "python3"
  },
  "language_info": {
   "codemirror_mode": {
    "name": "ipython",
    "version": 3
   },
   "file_extension": ".py",
   "mimetype": "text/x-python",
   "name": "python",
   "nbconvert_exporter": "python",
   "pygments_lexer": "ipython3",
   "version": "3.10.12"
  },
  "toc": {
   "base_numbering": 1,
   "nav_menu": {},
   "number_sections": true,
   "sideBar": true,
   "skip_h1_title": false,
   "title_cell": "Table of Contents",
   "title_sidebar": "Contents",
   "toc_cell": false,
   "toc_position": {},
   "toc_section_display": true,
   "toc_window_display": false
  },
  "widgets": {
   "application/vnd.jupyter.widget-state+json": {
    "509db9a067dd4762a899a2f9ce1fde45": {
     "model_module": "@jupyter-widgets/base",
     "model_module_version": "1.2.0",
     "model_name": "LayoutModel",
     "state": {
      "_model_module": "@jupyter-widgets/base",
      "_model_module_version": "1.2.0",
      "_model_name": "LayoutModel",
      "_view_count": null,
      "_view_module": "@jupyter-widgets/base",
      "_view_module_version": "1.2.0",
      "_view_name": "LayoutView",
      "align_content": null,
      "align_items": null,
      "align_self": null,
      "border": null,
      "bottom": null,
      "display": null,
      "flex": null,
      "flex_flow": null,
      "grid_area": null,
      "grid_auto_columns": null,
      "grid_auto_flow": null,
      "grid_auto_rows": null,
      "grid_column": null,
      "grid_gap": null,
      "grid_row": null,
      "grid_template_areas": null,
      "grid_template_columns": null,
      "grid_template_rows": null,
      "height": null,
      "justify_content": null,
      "justify_items": null,
      "left": null,
      "margin": null,
      "max_height": null,
      "max_width": null,
      "min_height": null,
      "min_width": null,
      "object_fit": null,
      "object_position": null,
      "order": null,
      "overflow": null,
      "overflow_x": null,
      "overflow_y": null,
      "padding": null,
      "right": null,
      "top": null,
      "visibility": null,
      "width": null
     }
    },
    "7558ee4ed88b4f18b9d689b7dca44714": {
     "model_module": "@jupyter-widgets/controls",
     "model_module_version": "1.5.0",
     "model_name": "HTMLModel",
     "state": {
      "_dom_classes": [],
      "_model_module": "@jupyter-widgets/controls",
      "_model_module_version": "1.5.0",
      "_model_name": "HTMLModel",
      "_view_count": null,
      "_view_module": "@jupyter-widgets/controls",
      "_view_module_version": "1.5.0",
      "_view_name": "HTMLView",
      "description": "",
      "description_tooltip": null,
      "layout": "IPY_MODEL_509db9a067dd4762a899a2f9ce1fde45",
      "placeholder": "​",
      "style": "IPY_MODEL_c0ee7e7403154a42b4af1801288dd478",
      "value": "100%"
     }
    },
    "75fe7d9015894182a3a1454658c8e50e": {
     "model_module": "@jupyter-widgets/base",
     "model_module_version": "1.2.0",
     "model_name": "LayoutModel",
     "state": {
      "_model_module": "@jupyter-widgets/base",
      "_model_module_version": "1.2.0",
      "_model_name": "LayoutModel",
      "_view_count": null,
      "_view_module": "@jupyter-widgets/base",
      "_view_module_version": "1.2.0",
      "_view_name": "LayoutView",
      "align_content": null,
      "align_items": null,
      "align_self": null,
      "border": null,
      "bottom": null,
      "display": null,
      "flex": null,
      "flex_flow": null,
      "grid_area": null,
      "grid_auto_columns": null,
      "grid_auto_flow": null,
      "grid_auto_rows": null,
      "grid_column": null,
      "grid_gap": null,
      "grid_row": null,
      "grid_template_areas": null,
      "grid_template_columns": null,
      "grid_template_rows": null,
      "height": null,
      "justify_content": null,
      "justify_items": null,
      "left": null,
      "margin": null,
      "max_height": null,
      "max_width": null,
      "min_height": null,
      "min_width": null,
      "object_fit": null,
      "object_position": null,
      "order": null,
      "overflow": null,
      "overflow_x": null,
      "overflow_y": null,
      "padding": null,
      "right": null,
      "top": null,
      "visibility": null,
      "width": null
     }
    },
    "828e9fae284a455a8f67d49e1a1ee9d1": {
     "model_module": "@jupyter-widgets/base",
     "model_module_version": "1.2.0",
     "model_name": "LayoutModel",
     "state": {
      "_model_module": "@jupyter-widgets/base",
      "_model_module_version": "1.2.0",
      "_model_name": "LayoutModel",
      "_view_count": null,
      "_view_module": "@jupyter-widgets/base",
      "_view_module_version": "1.2.0",
      "_view_name": "LayoutView",
      "align_content": null,
      "align_items": null,
      "align_self": null,
      "border": null,
      "bottom": null,
      "display": null,
      "flex": null,
      "flex_flow": null,
      "grid_area": null,
      "grid_auto_columns": null,
      "grid_auto_flow": null,
      "grid_auto_rows": null,
      "grid_column": null,
      "grid_gap": null,
      "grid_row": null,
      "grid_template_areas": null,
      "grid_template_columns": null,
      "grid_template_rows": null,
      "height": null,
      "justify_content": null,
      "justify_items": null,
      "left": null,
      "margin": null,
      "max_height": null,
      "max_width": null,
      "min_height": null,
      "min_width": null,
      "object_fit": null,
      "object_position": null,
      "order": null,
      "overflow": null,
      "overflow_x": null,
      "overflow_y": null,
      "padding": null,
      "right": null,
      "top": null,
      "visibility": null,
      "width": null
     }
    },
    "a6cbcf5028f8422d916d4c82497a1dbd": {
     "model_module": "@jupyter-widgets/controls",
     "model_module_version": "1.5.0",
     "model_name": "HTMLModel",
     "state": {
      "_dom_classes": [],
      "_model_module": "@jupyter-widgets/controls",
      "_model_module_version": "1.5.0",
      "_model_name": "HTMLModel",
      "_view_count": null,
      "_view_module": "@jupyter-widgets/controls",
      "_view_module_version": "1.5.0",
      "_view_name": "HTMLView",
      "description": "",
      "description_tooltip": null,
      "layout": "IPY_MODEL_f3db09b7873345b2b5351db09d0548ed",
      "placeholder": "​",
      "style": "IPY_MODEL_d8eb67971aaf4a5cb5aa2205240a460f",
      "value": " 120M/120M [00:01&lt;00:00, 94.9MB/s]"
     }
    },
    "bbd4cd4b8b974e999f3691042aebf34e": {
     "model_module": "@jupyter-widgets/controls",
     "model_module_version": "1.5.0",
     "model_name": "FloatProgressModel",
     "state": {
      "_dom_classes": [],
      "_model_module": "@jupyter-widgets/controls",
      "_model_module_version": "1.5.0",
      "_model_name": "FloatProgressModel",
      "_view_count": null,
      "_view_module": "@jupyter-widgets/controls",
      "_view_module_version": "1.5.0",
      "_view_name": "ProgressView",
      "bar_style": "success",
      "description": "",
      "description_tooltip": null,
      "layout": "IPY_MODEL_75fe7d9015894182a3a1454658c8e50e",
      "max": 126162996,
      "min": 0,
      "orientation": "horizontal",
      "style": "IPY_MODEL_cb17fa7b7f5f41839c343101e81781a0",
      "value": 126162996
     }
    },
    "c0ee7e7403154a42b4af1801288dd478": {
     "model_module": "@jupyter-widgets/controls",
     "model_module_version": "1.5.0",
     "model_name": "DescriptionStyleModel",
     "state": {
      "_model_module": "@jupyter-widgets/controls",
      "_model_module_version": "1.5.0",
      "_model_name": "DescriptionStyleModel",
      "_view_count": null,
      "_view_module": "@jupyter-widgets/base",
      "_view_module_version": "1.2.0",
      "_view_name": "StyleView",
      "description_width": ""
     }
    },
    "cb17fa7b7f5f41839c343101e81781a0": {
     "model_module": "@jupyter-widgets/controls",
     "model_module_version": "1.5.0",
     "model_name": "ProgressStyleModel",
     "state": {
      "_model_module": "@jupyter-widgets/controls",
      "_model_module_version": "1.5.0",
      "_model_name": "ProgressStyleModel",
      "_view_count": null,
      "_view_module": "@jupyter-widgets/base",
      "_view_module_version": "1.2.0",
      "_view_name": "StyleView",
      "bar_color": null,
      "description_width": ""
     }
    },
    "d8eb67971aaf4a5cb5aa2205240a460f": {
     "model_module": "@jupyter-widgets/controls",
     "model_module_version": "1.5.0",
     "model_name": "DescriptionStyleModel",
     "state": {
      "_model_module": "@jupyter-widgets/controls",
      "_model_module_version": "1.5.0",
      "_model_name": "DescriptionStyleModel",
      "_view_count": null,
      "_view_module": "@jupyter-widgets/base",
      "_view_module_version": "1.2.0",
      "_view_name": "StyleView",
      "description_width": ""
     }
    },
    "f0a6cad2707f4799a9acad533af921b6": {
     "model_module": "@jupyter-widgets/controls",
     "model_module_version": "1.5.0",
     "model_name": "HBoxModel",
     "state": {
      "_dom_classes": [],
      "_model_module": "@jupyter-widgets/controls",
      "_model_module_version": "1.5.0",
      "_model_name": "HBoxModel",
      "_view_count": null,
      "_view_module": "@jupyter-widgets/controls",
      "_view_module_version": "1.5.0",
      "_view_name": "HBoxView",
      "box_style": "",
      "children": [
       "IPY_MODEL_7558ee4ed88b4f18b9d689b7dca44714",
       "IPY_MODEL_bbd4cd4b8b974e999f3691042aebf34e",
       "IPY_MODEL_a6cbcf5028f8422d916d4c82497a1dbd"
      ],
      "layout": "IPY_MODEL_828e9fae284a455a8f67d49e1a1ee9d1"
     }
    },
    "f3db09b7873345b2b5351db09d0548ed": {
     "model_module": "@jupyter-widgets/base",
     "model_module_version": "1.2.0",
     "model_name": "LayoutModel",
     "state": {
      "_model_module": "@jupyter-widgets/base",
      "_model_module_version": "1.2.0",
      "_model_name": "LayoutModel",
      "_view_count": null,
      "_view_module": "@jupyter-widgets/base",
      "_view_module_version": "1.2.0",
      "_view_name": "LayoutView",
      "align_content": null,
      "align_items": null,
      "align_self": null,
      "border": null,
      "bottom": null,
      "display": null,
      "flex": null,
      "flex_flow": null,
      "grid_area": null,
      "grid_auto_columns": null,
      "grid_auto_flow": null,
      "grid_auto_rows": null,
      "grid_column": null,
      "grid_gap": null,
      "grid_row": null,
      "grid_template_areas": null,
      "grid_template_columns": null,
      "grid_template_rows": null,
      "height": null,
      "justify_content": null,
      "justify_items": null,
      "left": null,
      "margin": null,
      "max_height": null,
      "max_width": null,
      "min_height": null,
      "min_width": null,
      "object_fit": null,
      "object_position": null,
      "order": null,
      "overflow": null,
      "overflow_x": null,
      "overflow_y": null,
      "padding": null,
      "right": null,
      "top": null,
      "visibility": null,
      "width": null
     }
    }
   }
  }
 },
 "nbformat": 4,
 "nbformat_minor": 1
}
